{
 "cells": [
  {
   "cell_type": "markdown",
   "metadata": {},
   "source": [
    "# Transcribe Audio with Whisper in Google Colab\n",
    "This notebook demonstrates how to upload an audio file and transcribe it using [OpenAI Whisper](https://github.com/openai/whisper) directly in Google Colab."
   ]
  },
  {
   "cell_type": "code",
   "metadata": {},
   "source": [
    "# Install Whisper\n",
    "!pip install -q git+https://github.com/openai/whisper.git"
   ],
   "execution_count": null,
   "outputs": []
  },
  {
   "cell_type": "code",
   "metadata": {},
   "source": [
    "# Upload an audio file\n",
    "from google.colab import files\n",
    "uploaded = files.upload()\n",
    "audio_path = next(iter(uploaded))"
   ],
   "execution_count": null,
   "outputs": []
  },
  {
   "cell_type": "code",
   "metadata": {},
   "source": [
    "# Load Whisper and transcribe\n",
    "import whisper\n",
    "model = whisper.load_model('base')\n",
    "result = model.transcribe(audio_path)\n",
    "print(result['text'])"
   ],
   "execution_count": null,
   "outputs": []
  }
 ],
 "metadata": {
  "language_info": {
   "name": "python"
  }
 },
 "nbformat": 4,
 "nbformat_minor": 0
}
